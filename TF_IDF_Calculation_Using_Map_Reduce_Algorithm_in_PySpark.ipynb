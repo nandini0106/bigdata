{
  "nbformat": 4,
  "nbformat_minor": 0,
  "metadata": {
    "colab": {
      "provenance": [],
      "collapsed_sections": []
    },
    "kernelspec": {
      "name": "python3",
      "display_name": "Python 3"
    },
    "language_info": {
      "name": "python"
    }
  },
  "cells": [
    {
      "cell_type": "code",
      "source": [
        "!apt-get update"
      ],
      "metadata": {
        "colab": {
          "base_uri": "https://localhost:8080/"
        },
        "id": "QxcLDlT-zaEI",
        "outputId": "834cf045-8b1a-4e78-a9f1-a7e63f98ee50"
      },
      "execution_count": null,
      "outputs": [
        {
          "output_type": "stream",
          "name": "stdout",
          "text": [
            "\r0% [Working]\r            \rGet:1 http://security.ubuntu.com/ubuntu bionic-security InRelease [88.7 kB]\n",
            "\r0% [Connecting to archive.ubuntu.com (185.125.190.39)] [1 InRelease 14.2 kB/88.\r                                                                               \rHit:2 https://cloud.r-project.org/bin/linux/ubuntu bionic-cran40/ InRelease\n",
            "\r0% [Waiting for headers] [1 InRelease 69.2 kB/88.7 kB 78%] [Waiting for headers\r0% [2 InRelease gpgv 3,626 B] [Waiting for headers] [1 InRelease 72.1 kB/88.7 k\r0% [2 InRelease gpgv 3,626 B] [Waiting for headers] [Waiting for headers] [Wait\r                                                                               \rIgn:3 https://developer.download.nvidia.com/compute/machine-learning/repos/ubuntu1804/x86_64  InRelease\n",
            "\r0% [2 InRelease gpgv 3,626 B] [Waiting for headers] [Waiting for headers] [Wait\r                                                                               \rGet:4 http://ppa.launchpad.net/c2d4u.team/c2d4u4.0+/ubuntu bionic InRelease [15.9 kB]\n",
            "Hit:5 https://developer.download.nvidia.com/compute/cuda/repos/ubuntu1804/x86_64  InRelease\n",
            "Hit:6 https://developer.download.nvidia.com/compute/machine-learning/repos/ubuntu1804/x86_64  Release\n",
            "Hit:7 http://archive.ubuntu.com/ubuntu bionic InRelease\n",
            "Get:8 http://archive.ubuntu.com/ubuntu bionic-updates InRelease [88.7 kB]\n",
            "Hit:9 http://ppa.launchpad.net/cran/libgit2/ubuntu bionic InRelease\n",
            "Hit:10 http://ppa.launchpad.net/deadsnakes/ppa/ubuntu bionic InRelease\n",
            "Get:11 http://archive.ubuntu.com/ubuntu bionic-backports InRelease [74.6 kB]\n",
            "Hit:12 http://ppa.launchpad.net/graphics-drivers/ppa/ubuntu bionic InRelease\n",
            "Get:14 http://ppa.launchpad.net/c2d4u.team/c2d4u4.0+/ubuntu bionic/main Sources [2,095 kB]\n",
            "Fetched 2,363 kB in 3s (741 kB/s)\n",
            "Reading package lists... Done\n"
          ]
        }
      ]
    },
    {
      "cell_type": "code",
      "source": [
        "!apt-get install openjdk-11-jdk-headless -qq > /dev/null\n",
        "!wget -q https://dlcdn.apache.org/spark/spark-3.3.0/spark-3.3.0-bin-hadoop3.tgz\n",
        "!tar xf spark-3.3.0-bin-hadoop3.tgz\n",
        "!rm -rf spark-3.3.0-bin-hadoop3.tgz*"
      ],
      "metadata": {
        "id": "mM_DeqLm6TWN"
      },
      "execution_count": null,
      "outputs": []
    },
    {
      "cell_type": "code",
      "source": [
        "import os\n",
        "\n",
        "os.environ[\"JAVA_HOME\"] = \"/usr/lib/jvm/java-11-openjdk-amd64\"\n",
        "os.environ[\"SPARK_HOME\"] = \"/content/spark-3.3.0-bin-hadoop3\""
      ],
      "metadata": {
        "id": "9ibkvvvn8yYH"
      },
      "execution_count": null,
      "outputs": []
    },
    {
      "cell_type": "code",
      "source": [
        "# Install library for finding Spark\n",
        "!pip install -q findspark\n",
        "# Import the libary\n",
        "import findspark\n",
        "# Initiate findspark\n",
        "findspark.init()\n",
        "# Check the location for Spark\n",
        "findspark.find()"
      ],
      "metadata": {
        "colab": {
          "base_uri": "https://localhost:8080/",
          "height": 36
        },
        "id": "9GHI93d99Jha",
        "outputId": "b0398128-7817-4f0a-f5d5-0decbac7be18"
      },
      "execution_count": null,
      "outputs": [
        {
          "output_type": "execute_result",
          "data": {
            "text/plain": [
              "'/content/spark-3.3.0-bin-hadoop3'"
            ],
            "application/vnd.google.colaboratory.intrinsic+json": {
              "type": "string"
            }
          },
          "metadata": {},
          "execution_count": 4
        }
      ]
    },
    {
      "cell_type": "code",
      "source": [
        "# Import SparkSession\n",
        "from pyspark.sql import SparkSession"
      ],
      "metadata": {
        "id": "piro9USL9VNZ"
      },
      "execution_count": null,
      "outputs": []
    },
    {
      "cell_type": "code",
      "source": [
        "# Create a Spark Session\n",
        "spark = SparkSession.builder.master(\"local[*]\").getOrCreate()\n",
        "spark.conf.set(\"spark.sql.repl.eagerEval.enabled\", True) # Property used to format output tables better\n",
        "# Check Spark Session Information\n",
        "spark"
      ],
      "metadata": {
        "colab": {
          "base_uri": "https://localhost:8080/",
          "height": 219
        },
        "id": "urxajNebrKTr",
        "outputId": "477c16f2-2ce6-4bae-e1e4-d1f6ac2d3948"
      },
      "execution_count": null,
      "outputs": [
        {
          "output_type": "execute_result",
          "data": {
            "text/plain": [
              "<pyspark.sql.session.SparkSession at 0x7f819cb217d0>"
            ],
            "text/html": [
              "\n",
              "            <div>\n",
              "                <p><b>SparkSession - in-memory</b></p>\n",
              "                \n",
              "        <div>\n",
              "            <p><b>SparkContext</b></p>\n",
              "\n",
              "            <p><a href=\"http://1fc262bb0a22:4040\">Spark UI</a></p>\n",
              "\n",
              "            <dl>\n",
              "              <dt>Version</dt>\n",
              "                <dd><code>v3.3.0</code></dd>\n",
              "              <dt>Master</dt>\n",
              "                <dd><code>local[*]</code></dd>\n",
              "              <dt>AppName</dt>\n",
              "                <dd><code>pyspark-shell</code></dd>\n",
              "            </dl>\n",
              "        </div>\n",
              "        \n",
              "            </div>\n",
              "        "
            ]
          },
          "metadata": {},
          "execution_count": 8
        }
      ]
    },
    {
      "cell_type": "code",
      "source": [
        "sc = spark.sparkContext"
      ],
      "metadata": {
        "id": "zuW6F_vb9dbZ"
      },
      "execution_count": null,
      "outputs": []
    },
    {
      "cell_type": "code",
      "source": [
        "text1 = open('first.txt','r')\n",
        "text2 = open('second.txt','r')\n",
        "text3 = open('third.txt','r')"
      ],
      "metadata": {
        "id": "cwjBOLQHYkJG"
      },
      "execution_count": null,
      "outputs": []
    },
    {
      "cell_type": "code",
      "source": [
        "data=[(1,text1.read()),(2,text2.read()),(3,text3.read())]\n",
        "data"
      ],
      "metadata": {
        "colab": {
          "base_uri": "https://localhost:8080/"
        },
        "id": "APwbr2fMYrLa",
        "outputId": "41344b43-200b-493a-91c7-6d3bc922af30"
      },
      "execution_count": null,
      "outputs": [
        {
          "output_type": "execute_result",
          "data": {
            "text/plain": [
              "[(1, 'i love dogs'),\n",
              " (2, 'i hate dogs and knitting'),\n",
              " (3, 'knitting is my hobby and my passion')]"
            ]
          },
          "metadata": {},
          "execution_count": 12
        }
      ]
    },
    {
      "cell_type": "code",
      "source": [
        "#data=[(1,'i love dogs'),(2,\"i hate dogs and knitting\"),(3,\"knitting is my hobby and my passion\")]\n",
        "lines=sc.parallelize(data)\n",
        "lines.collect()"
      ],
      "metadata": {
        "id": "B-0HQL-ZyhlM",
        "colab": {
          "base_uri": "https://localhost:8080/"
        },
        "outputId": "622db79e-5842-4cdc-db65-3ef3d687e123"
      },
      "execution_count": null,
      "outputs": [
        {
          "output_type": "execute_result",
          "data": {
            "text/plain": [
              "[(1, 'i love dogs'),\n",
              " (2, 'i hate dogs and knitting'),\n",
              " (3, 'knitting is my hobby and my passion')]"
            ]
          },
          "metadata": {},
          "execution_count": 13
        }
      ]
    },
    {
      "cell_type": "code",
      "source": [
        "map1=lines.flatMap(lambda x: [((x[0],word),1) for word in x[1].split()])\n",
        "map1.collect()"
      ],
      "metadata": {
        "colab": {
          "base_uri": "https://localhost:8080/"
        },
        "id": "hMhwiRyULSaD",
        "outputId": "00660e0d-0c41-4b3f-9a6c-7f96b7b1de22"
      },
      "execution_count": null,
      "outputs": [
        {
          "output_type": "execute_result",
          "data": {
            "text/plain": [
              "[((1, 'i'), 1),\n",
              " ((1, 'love'), 1),\n",
              " ((1, 'dogs'), 1),\n",
              " ((2, 'i'), 1),\n",
              " ((2, 'hate'), 1),\n",
              " ((2, 'dogs'), 1),\n",
              " ((2, 'and'), 1),\n",
              " ((2, 'knitting'), 1),\n",
              " ((3, 'knitting'), 1),\n",
              " ((3, 'is'), 1),\n",
              " ((3, 'my'), 1),\n",
              " ((3, 'hobby'), 1),\n",
              " ((3, 'and'), 1),\n",
              " ((3, 'my'), 1),\n",
              " ((3, 'passion'), 1)]"
            ]
          },
          "metadata": {},
          "execution_count": 15
        }
      ]
    },
    {
      "cell_type": "code",
      "source": [
        "reduce=map1.reduceByKey(lambda x,y:x+y)\n",
        "reduce.collect()"
      ],
      "metadata": {
        "colab": {
          "base_uri": "https://localhost:8080/"
        },
        "id": "vusLoDKMMLXi",
        "outputId": "b729ece4-5833-4dc4-a63d-b4615fa5a54f"
      },
      "execution_count": null,
      "outputs": [
        {
          "output_type": "execute_result",
          "data": {
            "text/plain": [
              "[((2, 'i'), 1),\n",
              " ((2, 'hate'), 1),\n",
              " ((2, 'dogs'), 1),\n",
              " ((3, 'knitting'), 1),\n",
              " ((3, 'my'), 2),\n",
              " ((3, 'hobby'), 1),\n",
              " ((3, 'and'), 1),\n",
              " ((1, 'i'), 1),\n",
              " ((1, 'love'), 1),\n",
              " ((1, 'dogs'), 1),\n",
              " ((2, 'and'), 1),\n",
              " ((2, 'knitting'), 1),\n",
              " ((3, 'is'), 1),\n",
              " ((3, 'passion'), 1)]"
            ]
          },
          "metadata": {},
          "execution_count": 16
        }
      ]
    },
    {
      "cell_type": "code",
      "source": [
        "tf=reduce.map(lambda x: (x[0][1],(x[0][0],x[1])))\n",
        "tf.collect()"
      ],
      "metadata": {
        "colab": {
          "base_uri": "https://localhost:8080/"
        },
        "id": "0A_iUuQEMmiD",
        "outputId": "25ec739d-7435-4839-d4e0-987ff59a32f3"
      },
      "execution_count": null,
      "outputs": [
        {
          "output_type": "execute_result",
          "data": {
            "text/plain": [
              "[('i', (2, 1)),\n",
              " ('hate', (2, 1)),\n",
              " ('dogs', (2, 1)),\n",
              " ('knitting', (3, 1)),\n",
              " ('my', (3, 2)),\n",
              " ('hobby', (3, 1)),\n",
              " ('and', (3, 1)),\n",
              " ('i', (1, 1)),\n",
              " ('love', (1, 1)),\n",
              " ('dogs', (1, 1)),\n",
              " ('and', (2, 1)),\n",
              " ('knitting', (2, 1)),\n",
              " ('is', (3, 1)),\n",
              " ('passion', (3, 1))]"
            ]
          },
          "metadata": {},
          "execution_count": 17
        }
      ]
    },
    {
      "cell_type": "code",
      "source": [
        "map3=reduce.map(lambda x: (x[0][1],(x[0][0],x[1],1)))\n",
        "map3.collect()"
      ],
      "metadata": {
        "colab": {
          "base_uri": "https://localhost:8080/"
        },
        "id": "syGYdSPuM3HE",
        "outputId": "80abb12f-24cd-4cd5-f314-4c1f629eba9d"
      },
      "execution_count": null,
      "outputs": [
        {
          "output_type": "execute_result",
          "data": {
            "text/plain": [
              "[('i', (2, 1, 1)),\n",
              " ('hate', (2, 1, 1)),\n",
              " ('dogs', (2, 1, 1)),\n",
              " ('knitting', (3, 1, 1)),\n",
              " ('my', (3, 2, 1)),\n",
              " ('hobby', (3, 1, 1)),\n",
              " ('and', (3, 1, 1)),\n",
              " ('i', (1, 1, 1)),\n",
              " ('love', (1, 1, 1)),\n",
              " ('dogs', (1, 1, 1)),\n",
              " ('and', (2, 1, 1)),\n",
              " ('knitting', (2, 1, 1)),\n",
              " ('is', (3, 1, 1)),\n",
              " ('passion', (3, 1, 1))]"
            ]
          },
          "metadata": {},
          "execution_count": 18
        }
      ]
    },
    {
      "cell_type": "code",
      "source": [
        "map4=map3.map(lambda x:(x[0],x[1][2]))\n",
        "map4.collect()"
      ],
      "metadata": {
        "colab": {
          "base_uri": "https://localhost:8080/"
        },
        "id": "hS5MPy3nNPNW",
        "outputId": "348f03be-4f70-4a3e-fd73-e2b1450d4e2d"
      },
      "execution_count": null,
      "outputs": [
        {
          "output_type": "execute_result",
          "data": {
            "text/plain": [
              "[('i', 1),\n",
              " ('hate', 1),\n",
              " ('dogs', 1),\n",
              " ('knitting', 1),\n",
              " ('my', 1),\n",
              " ('hobby', 1),\n",
              " ('and', 1),\n",
              " ('i', 1),\n",
              " ('love', 1),\n",
              " ('dogs', 1),\n",
              " ('and', 1),\n",
              " ('knitting', 1),\n",
              " ('is', 1),\n",
              " ('passion', 1)]"
            ]
          },
          "metadata": {},
          "execution_count": 21
        }
      ]
    },
    {
      "cell_type": "code",
      "source": [
        "reduce2=map4.reduceByKey(lambda x,y:x+y)\n",
        "reduce2.collect()"
      ],
      "metadata": {
        "colab": {
          "base_uri": "https://localhost:8080/"
        },
        "id": "KLIRRAATNSB-",
        "outputId": "deb903f2-281e-4650-d96a-8b4b29fe4c5b"
      },
      "execution_count": null,
      "outputs": [
        {
          "output_type": "execute_result",
          "data": {
            "text/plain": [
              "[('i', 2),\n",
              " ('hate', 1),\n",
              " ('dogs', 2),\n",
              " ('love', 1),\n",
              " ('is', 1),\n",
              " ('passion', 1),\n",
              " ('knitting', 2),\n",
              " ('my', 1),\n",
              " ('hobby', 1),\n",
              " ('and', 2)]"
            ]
          },
          "metadata": {},
          "execution_count": 20
        }
      ]
    },
    {
      "cell_type": "code",
      "source": [
        "import math\n",
        "from pyspark.sql.functions import *\n",
        "idf=reduce2.map(lambda x: (x[0],math.log10(len(data)/x[1])))\n",
        "idf.collect()"
      ],
      "metadata": {
        "colab": {
          "base_uri": "https://localhost:8080/"
        },
        "id": "EwfF7dElNcOK",
        "outputId": "6260674c-3d87-47de-905b-12d8779e013a"
      },
      "execution_count": null,
      "outputs": [
        {
          "output_type": "execute_result",
          "data": {
            "text/plain": [
              "[('i', 0.17609125905568124),\n",
              " ('hate', 0.47712125471966244),\n",
              " ('dogs', 0.17609125905568124),\n",
              " ('love', 0.47712125471966244),\n",
              " ('is', 0.47712125471966244),\n",
              " ('passion', 0.47712125471966244),\n",
              " ('knitting', 0.17609125905568124),\n",
              " ('my', 0.47712125471966244),\n",
              " ('hobby', 0.47712125471966244),\n",
              " ('and', 0.17609125905568124)]"
            ]
          },
          "metadata": {},
          "execution_count": 23
        }
      ]
    },
    {
      "cell_type": "code",
      "source": [
        "rdd=tf.join(idf)\n",
        "rdd.collect()"
      ],
      "metadata": {
        "colab": {
          "base_uri": "https://localhost:8080/"
        },
        "id": "xzzxUCTrNrXm",
        "outputId": "1ec2732d-7712-4f6f-beeb-83fe2b83fa29"
      },
      "execution_count": null,
      "outputs": [
        {
          "output_type": "execute_result",
          "data": {
            "text/plain": [
              "[('i', ((2, 1), 0.17609125905568124)),\n",
              " ('i', ((1, 1), 0.17609125905568124)),\n",
              " ('dogs', ((2, 1), 0.17609125905568124)),\n",
              " ('dogs', ((1, 1), 0.17609125905568124)),\n",
              " ('passion', ((3, 1), 0.47712125471966244)),\n",
              " ('knitting', ((3, 1), 0.17609125905568124)),\n",
              " ('knitting', ((2, 1), 0.17609125905568124)),\n",
              " ('hobby', ((3, 1), 0.47712125471966244)),\n",
              " ('and', ((3, 1), 0.17609125905568124)),\n",
              " ('and', ((2, 1), 0.17609125905568124)),\n",
              " ('hate', ((2, 1), 0.47712125471966244)),\n",
              " ('love', ((1, 1), 0.47712125471966244)),\n",
              " ('is', ((3, 1), 0.47712125471966244)),\n",
              " ('my', ((3, 2), 0.47712125471966244))]"
            ]
          },
          "metadata": {},
          "execution_count": 28
        }
      ]
    },
    {
      "cell_type": "code",
      "source": [
        "rdd=rdd.map(lambda x: (x[1][0][0],(x[0],x[1][0][1],x[1][1],x[1][0][1]*x[1][1]))).sortByKey()\n",
        "rdd.collect()"
      ],
      "metadata": {
        "colab": {
          "base_uri": "https://localhost:8080/"
        },
        "id": "wpxjwB-nN0Id",
        "outputId": "89d6eccd-de42-4f0b-ca1b-46d92689ba43"
      },
      "execution_count": null,
      "outputs": [
        {
          "output_type": "execute_result",
          "data": {
            "text/plain": [
              "[(1, ('i', 1, 0.17609125905568124, 0.17609125905568124)),\n",
              " (1, ('dogs', 1, 0.17609125905568124, 0.17609125905568124)),\n",
              " (1, ('love', 1, 0.47712125471966244, 0.47712125471966244)),\n",
              " (2, ('i', 1, 0.17609125905568124, 0.17609125905568124)),\n",
              " (2, ('dogs', 1, 0.17609125905568124, 0.17609125905568124)),\n",
              " (2, ('knitting', 1, 0.17609125905568124, 0.17609125905568124)),\n",
              " (2, ('and', 1, 0.17609125905568124, 0.17609125905568124)),\n",
              " (2, ('hate', 1, 0.47712125471966244, 0.47712125471966244)),\n",
              " (3, ('passion', 1, 0.47712125471966244, 0.47712125471966244)),\n",
              " (3, ('knitting', 1, 0.17609125905568124, 0.17609125905568124)),\n",
              " (3, ('hobby', 1, 0.47712125471966244, 0.47712125471966244)),\n",
              " (3, ('and', 1, 0.17609125905568124, 0.17609125905568124)),\n",
              " (3, ('is', 1, 0.47712125471966244, 0.47712125471966244)),\n",
              " (3, ('my', 2, 0.47712125471966244, 0.9542425094393249))]"
            ]
          },
          "metadata": {},
          "execution_count": 29
        }
      ]
    },
    {
      "cell_type": "code",
      "source": [
        "rdd=rdd.map(lambda x: (x[0],x[1][0],x[1][1],x[1][2],x[1][3]))\n",
        "rdd.toDF([\"DocumentId\",\"Word\",\"TF\",\"IDF\",\"TF-IDF\"]).show()"
      ],
      "metadata": {
        "colab": {
          "base_uri": "https://localhost:8080/"
        },
        "id": "hYnfnduIN89p",
        "outputId": "3b2b34ba-066f-4e39-f207-e0d57c11aff3"
      },
      "execution_count": null,
      "outputs": [
        {
          "output_type": "stream",
          "name": "stdout",
          "text": [
            "+----------+--------+---+-------------------+-------------------+\n",
            "|DocumentId|    Word| TF|                IDF|             TF-IDF|\n",
            "+----------+--------+---+-------------------+-------------------+\n",
            "|         1|       i|  1|0.17609125905568124|0.17609125905568124|\n",
            "|         1|    dogs|  1|0.17609125905568124|0.17609125905568124|\n",
            "|         1|    love|  1|0.47712125471966244|0.47712125471966244|\n",
            "|         2|       i|  1|0.17609125905568124|0.17609125905568124|\n",
            "|         2|    dogs|  1|0.17609125905568124|0.17609125905568124|\n",
            "|         2|knitting|  1|0.17609125905568124|0.17609125905568124|\n",
            "|         2|     and|  1|0.17609125905568124|0.17609125905568124|\n",
            "|         2|    hate|  1|0.47712125471966244|0.47712125471966244|\n",
            "|         3| passion|  1|0.47712125471966244|0.47712125471966244|\n",
            "|         3|knitting|  1|0.17609125905568124|0.17609125905568124|\n",
            "|         3|   hobby|  1|0.47712125471966244|0.47712125471966244|\n",
            "|         3|     and|  1|0.17609125905568124|0.17609125905568124|\n",
            "|         3|      is|  1|0.47712125471966244|0.47712125471966244|\n",
            "|         3|      my|  2|0.47712125471966244| 0.9542425094393249|\n",
            "+----------+--------+---+-------------------+-------------------+\n",
            "\n"
          ]
        }
      ]
    }
  ]
}