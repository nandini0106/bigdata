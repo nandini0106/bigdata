{
  "nbformat": 4,
  "nbformat_minor": 0,
  "metadata": {
    "colab": {
      "provenance": [],
      "collapsed_sections": []
    },
    "kernelspec": {
      "name": "python3",
      "display_name": "Python 3"
    },
    "language_info": {
      "name": "python"
    }
  },
  "cells": [
    {
      "cell_type": "code",
      "execution_count": null,
      "metadata": {
        "colab": {
          "base_uri": "https://localhost:8080/",
          "height": 219
        },
        "id": "4yK2wZ_VdSqw",
        "outputId": "bad8ecc5-d041-459c-eca8-0a148a374219"
      },
      "outputs": [
        {
          "output_type": "execute_result",
          "data": {
            "text/plain": [
              "<pyspark.sql.session.SparkSession at 0x7fadd3500d50>"
            ],
            "text/html": [
              "\n",
              "            <div>\n",
              "                <p><b>SparkSession - in-memory</b></p>\n",
              "                \n",
              "        <div>\n",
              "            <p><b>SparkContext</b></p>\n",
              "\n",
              "            <p><a href=\"http://4eeaaf8d7110:4040\">Spark UI</a></p>\n",
              "\n",
              "            <dl>\n",
              "              <dt>Version</dt>\n",
              "                <dd><code>v3.1.1</code></dd>\n",
              "              <dt>Master</dt>\n",
              "                <dd><code>local[*]</code></dd>\n",
              "              <dt>AppName</dt>\n",
              "                <dd><code>pyspark-shell</code></dd>\n",
              "            </dl>\n",
              "        </div>\n",
              "        \n",
              "            </div>\n",
              "        "
            ]
          },
          "metadata": {},
          "execution_count": 1
        }
      ],
      "source": [
        "# Install Hadoop and Spark on top of it\n",
        "!apt-get install openjdk-8-jdk-headless -qq > /dev/null ### Installing Java\n",
        "!wget -q http://archive.apache.org/dist/spark/spark-3.1.1/spark-3.1.1-bin-hadoop3.2.tgz #### Installing Spark and Hadoop on the worker node\n",
        "!tar xf spark-3.1.1-bin-hadoop3.2.tgz\n",
        "!pip install -q findspark\n",
        "import os\n",
        "os.environ[\"JAVA_HOME\"] = \"/usr/lib/jvm/java-8-openjdk-amd64\"\n",
        "os.environ[\"SPARK_HOME\"] = \"/content/spark-3.1.1-bin-hadoop3.2\"\n",
        "\n",
        "import findspark\n",
        "findspark.init()\n",
        "from pyspark.sql import SparkSession\n",
        "spark = SparkSession.builder.master(\"local[*]\").getOrCreate()\n",
        "spark.conf.set(\"spark.sql.repl.eagerEval.enabled\", True) # Property used to format output tables better\n",
        "spark #### Creating a Sparksession"
      ]
    },
    {
      "cell_type": "code",
      "source": [],
      "metadata": {
        "id": "aki42XCN1CO7"
      },
      "execution_count": null,
      "outputs": []
    },
    {
      "cell_type": "code",
      "source": [
        "# Upload the dataset to Google Colab test.csv which describes the customer purchase behaviour\n",
        "df = spark.read.csv('test.csv', header=True)"
      ],
      "metadata": {
        "id": "u6k_Zrj2fSMb"
      },
      "execution_count": null,
      "outputs": []
    },
    {
      "cell_type": "code",
      "source": [
        "# Show Column details of the dataset\n",
        "df.columns"
      ],
      "metadata": {
        "colab": {
          "base_uri": "https://localhost:8080/"
        },
        "id": "qD1v8Pr0dTqh",
        "outputId": "253e81e1-5284-4607-93ef-201b041a3bee"
      },
      "execution_count": null,
      "outputs": [
        {
          "output_type": "execute_result",
          "data": {
            "text/plain": [
              "['User_ID',\n",
              " 'Product_ID',\n",
              " 'Gender',\n",
              " 'Age',\n",
              " 'Occupation',\n",
              " 'City_Category',\n",
              " 'Stay_In_Current_City_Years',\n",
              " 'Marital_Status',\n",
              " 'Product_Category_1',\n",
              " 'Product_Category_2',\n",
              " 'Product_Category_3']"
            ]
          },
          "metadata": {},
          "execution_count": 3
        }
      ]
    },
    {
      "cell_type": "code",
      "source": [
        "# Display the first 15 rows of the dataset\n",
        "df.show(15)"
      ],
      "metadata": {
        "colab": {
          "base_uri": "https://localhost:8080/"
        },
        "id": "urgjxB_VfakI",
        "outputId": "19ce775d-4a0d-412a-a04b-2c8206c7c152"
      },
      "execution_count": null,
      "outputs": [
        {
          "output_type": "stream",
          "name": "stdout",
          "text": [
            "+-------+----------+------+-----+----------+-------------+--------------------------+--------------+------------------+------------------+------------------+\n",
            "|User_ID|Product_ID|Gender|  Age|Occupation|City_Category|Stay_In_Current_City_Years|Marital_Status|Product_Category_1|Product_Category_2|Product_Category_3|\n",
            "+-------+----------+------+-----+----------+-------------+--------------------------+--------------+------------------+------------------+------------------+\n",
            "|1000004| P00128942|     M|46-50|         7|            B|                         2|             1|                 1|                11|              null|\n",
            "|1000009| P00113442|     M|26-35|        17|            C|                         0|             0|                 3|                 5|              null|\n",
            "|1000010| P00288442|     F|36-45|         1|            B|                        4+|             1|                 5|                14|              null|\n",
            "|1000010| P00145342|     F|36-45|         1|            B|                        4+|             1|                 4|                 9|              null|\n",
            "|1000011| P00053842|     F|26-35|         1|            C|                         1|             0|                 4|                 5|                12|\n",
            "|1000013| P00350442|     M|46-50|         1|            C|                         3|             1|                 2|                 3|                15|\n",
            "|1000013| P00155442|     M|46-50|         1|            C|                         3|             1|                 1|                11|                15|\n",
            "|1000013|  P0094542|     M|46-50|         1|            C|                         3|             1|                 2|                 4|                 9|\n",
            "|1000015| P00161842|     M|26-35|         7|            A|                         1|             0|                10|                13|                16|\n",
            "|1000022| P00067942|     M|18-25|        15|            A|                        4+|             0|                 5|                14|              null|\n",
            "|1000026| P00046742|     M|26-35|         7|            B|                         2|             1|                 1|                 2|                15|\n",
            "|1000026| P00040042|     M|26-35|         7|            B|                         2|             1|                 5|              null|              null|\n",
            "|1000026| P00196542|     M|26-35|         7|            B|                         2|             1|                 5|                 8|                14|\n",
            "|1000026| P00004542|     M|26-35|         7|            B|                         2|             1|                 5|                 8|              null|\n",
            "|1000028| P00159542|     F|26-35|         1|            C|                         2|             1|                10|                15|                16|\n",
            "+-------+----------+------+-----+----------+-------------+--------------------------+--------------+------------------+------------------+------------------+\n",
            "only showing top 15 rows\n",
            "\n"
          ]
        }
      ]
    },
    {
      "cell_type": "code",
      "source": [
        "# Print the total number of rows in the dataset\n",
        "df.count()"
      ],
      "metadata": {
        "colab": {
          "base_uri": "https://localhost:8080/"
        },
        "id": "N5S6UH5QeAdG",
        "outputId": "fc588aa7-2567-427c-ff8e-bb27305ace49"
      },
      "execution_count": null,
      "outputs": [
        {
          "output_type": "execute_result",
          "data": {
            "text/plain": [
              "233599"
            ]
          },
          "metadata": {},
          "execution_count": 5
        }
      ]
    },
    {
      "cell_type": "code",
      "source": [
        "# Determine the total Purchase per City Category\n",
        "df1=df.select('City_Category','Product_Category_1','Product_Category_2','Product_Category_3')"
      ],
      "metadata": {
        "id": "j2PYG6rOfe_p"
      },
      "execution_count": null,
      "outputs": []
    },
    {
      "cell_type": "code",
      "source": [
        "df1.show()"
      ],
      "metadata": {
        "colab": {
          "base_uri": "https://localhost:8080/"
        },
        "id": "HS2gbByzf5ZB",
        "outputId": "34f7ca41-4631-4dcf-8b16-a156ce78ded6"
      },
      "execution_count": null,
      "outputs": [
        {
          "output_type": "stream",
          "name": "stdout",
          "text": [
            "+-------------+------------------+------------------+------------------+\n",
            "|City_Category|Product_Category_1|Product_Category_2|Product_Category_3|\n",
            "+-------------+------------------+------------------+------------------+\n",
            "|            B|                 1|                11|              null|\n",
            "|            C|                 3|                 5|              null|\n",
            "|            B|                 5|                14|              null|\n",
            "|            B|                 4|                 9|              null|\n",
            "|            C|                 4|                 5|                12|\n",
            "|            C|                 2|                 3|                15|\n",
            "|            C|                 1|                11|                15|\n",
            "|            C|                 2|                 4|                 9|\n",
            "|            A|                10|                13|                16|\n",
            "|            A|                 5|                14|              null|\n",
            "|            B|                 1|                 2|                15|\n",
            "|            B|                 5|              null|              null|\n",
            "|            B|                 5|                 8|                14|\n",
            "|            B|                 5|                 8|              null|\n",
            "|            C|                10|                15|                16|\n",
            "|            C|                 2|                17|              null|\n",
            "|            A|                15|              null|              null|\n",
            "|            A|                 5|                 8|                14|\n",
            "|            A|                 5|                 8|              null|\n",
            "|            C|                 2|                 3|                 4|\n",
            "+-------------+------------------+------------------+------------------+\n",
            "only showing top 20 rows\n",
            "\n"
          ]
        }
      ]
    },
    {
      "cell_type": "code",
      "source": [
        "from pyspark.sql.functions import col\n",
        " \n",
        "df2=df1.withColumn(\"Total\", (col(\"Product_Category_1\")+col(\"Product_Category_2\")+col(\"Product_Category_3\")))\n",
        "df2.show()"
      ],
      "metadata": {
        "colab": {
          "base_uri": "https://localhost:8080/"
        },
        "id": "Dsy77m9Rgzmi",
        "outputId": "fef5ecdc-9505-442a-e9f8-0eb6e003c6fd"
      },
      "execution_count": null,
      "outputs": [
        {
          "output_type": "stream",
          "name": "stdout",
          "text": [
            "+-------------+------------------+------------------+------------------+-----+\n",
            "|City_Category|Product_Category_1|Product_Category_2|Product_Category_3|Total|\n",
            "+-------------+------------------+------------------+------------------+-----+\n",
            "|            B|                 1|                11|              null| null|\n",
            "|            C|                 3|                 5|              null| null|\n",
            "|            B|                 5|                14|              null| null|\n",
            "|            B|                 4|                 9|              null| null|\n",
            "|            C|                 4|                 5|                12| 21.0|\n",
            "|            C|                 2|                 3|                15| 20.0|\n",
            "|            C|                 1|                11|                15| 27.0|\n",
            "|            C|                 2|                 4|                 9| 15.0|\n",
            "|            A|                10|                13|                16| 39.0|\n",
            "|            A|                 5|                14|              null| null|\n",
            "|            B|                 1|                 2|                15| 18.0|\n",
            "|            B|                 5|              null|              null| null|\n",
            "|            B|                 5|                 8|                14| 27.0|\n",
            "|            B|                 5|                 8|              null| null|\n",
            "|            C|                10|                15|                16| 41.0|\n",
            "|            C|                 2|                17|              null| null|\n",
            "|            A|                15|              null|              null| null|\n",
            "|            A|                 5|                 8|                14| 27.0|\n",
            "|            A|                 5|                 8|              null| null|\n",
            "|            C|                 2|                 3|                 4|  9.0|\n",
            "+-------------+------------------+------------------+------------------+-----+\n",
            "only showing top 20 rows\n",
            "\n"
          ]
        }
      ]
    },
    {
      "cell_type": "code",
      "source": [
        "import pyspark.sql.functions as fn\n",
        "means = df2.agg(*[fn.mean(c).alias(c) \n",
        " for c in df2.columns if c != 'City_Category']).toPandas().to_dict('records')[0]\n",
        "means"
      ],
      "metadata": {
        "colab": {
          "base_uri": "https://localhost:8080/"
        },
        "id": "7EzDFrnTjTvX",
        "outputId": "ee0a0721-c7e6-44e5-b8f7-c58414a4e533"
      },
      "execution_count": null,
      "outputs": [
        {
          "output_type": "execute_result",
          "data": {
            "text/plain": [
              "{'Product_Category_1': 5.276542279718663,\n",
              " 'Product_Category_2': 9.849586059346997,\n",
              " 'Product_Category_3': 12.669453946534905,\n",
              " 'Total': 22.27692610892915}"
            ]
          },
          "metadata": {},
          "execution_count": 9
        }
      ]
    },
    {
      "cell_type": "code",
      "source": [
        "df3=df2.fillna(means)"
      ],
      "metadata": {
        "id": "n23SxD_nkWSo"
      },
      "execution_count": null,
      "outputs": []
    },
    {
      "cell_type": "code",
      "source": [
        "df3.show()"
      ],
      "metadata": {
        "colab": {
          "base_uri": "https://localhost:8080/"
        },
        "id": "WzxeiqNgkc2G",
        "outputId": "205c815f-dcd1-4b97-d004-833159ce238f"
      },
      "execution_count": null,
      "outputs": [
        {
          "output_type": "stream",
          "name": "stdout",
          "text": [
            "+-------------+------------------+------------------+------------------+-----------------+\n",
            "|City_Category|Product_Category_1|Product_Category_2|Product_Category_3|            Total|\n",
            "+-------------+------------------+------------------+------------------+-----------------+\n",
            "|            B|                 1|                11|12.669453946534905|22.27692610892915|\n",
            "|            C|                 3|                 5|12.669453946534905|22.27692610892915|\n",
            "|            B|                 5|                14|12.669453946534905|22.27692610892915|\n",
            "|            B|                 4|                 9|12.669453946534905|22.27692610892915|\n",
            "|            C|                 4|                 5|                12|             21.0|\n",
            "|            C|                 2|                 3|                15|             20.0|\n",
            "|            C|                 1|                11|                15|             27.0|\n",
            "|            C|                 2|                 4|                 9|             15.0|\n",
            "|            A|                10|                13|                16|             39.0|\n",
            "|            A|                 5|                14|12.669453946534905|22.27692610892915|\n",
            "|            B|                 1|                 2|                15|             18.0|\n",
            "|            B|                 5| 9.849586059346997|12.669453946534905|22.27692610892915|\n",
            "|            B|                 5|                 8|                14|             27.0|\n",
            "|            B|                 5|                 8|12.669453946534905|22.27692610892915|\n",
            "|            C|                10|                15|                16|             41.0|\n",
            "|            C|                 2|                17|12.669453946534905|22.27692610892915|\n",
            "|            A|                15| 9.849586059346997|12.669453946534905|22.27692610892915|\n",
            "|            A|                 5|                 8|                14|             27.0|\n",
            "|            A|                 5|                 8|12.669453946534905|22.27692610892915|\n",
            "|            C|                 2|                 3|                 4|              9.0|\n",
            "+-------------+------------------+------------------+------------------+-----------------+\n",
            "only showing top 20 rows\n",
            "\n"
          ]
        }
      ]
    },
    {
      "cell_type": "code",
      "source": [
        "df3.groupBy('City_Category').sum('Total')"
      ],
      "metadata": {
        "colab": {
          "base_uri": "https://localhost:8080/",
          "height": 112
        },
        "id": "w9sOB2B6kf3a",
        "outputId": "fcf9265d-27ba-4a22-8d46-2cdc0ae1985a"
      },
      "execution_count": null,
      "outputs": [
        {
          "output_type": "execute_result",
          "data": {
            "text/plain": [
              "+-------------+------------------+\n",
              "|City_Category|        sum(Total)|\n",
              "+-------------+------------------+\n",
              "|            B| 2194470.855920172|\n",
              "|            C|1613257.8087763384|\n",
              "|            A|1396138.9974246807|\n",
              "+-------------+------------------+"
            ],
            "text/html": [
              "<table border='1'>\n",
              "<tr><th>City_Category</th><th>sum(Total)</th></tr>\n",
              "<tr><td>B</td><td>2194470.855920172</td></tr>\n",
              "<tr><td>C</td><td>1613257.8087763384</td></tr>\n",
              "<tr><td>A</td><td>1396138.9974246807</td></tr>\n",
              "</table>\n"
            ]
          },
          "metadata": {},
          "execution_count": 12
        }
      ]
    },
    {
      "cell_type": "code",
      "source": [
        "# Remove rows which have missing values\n",
        "len(df.columns)"
      ],
      "metadata": {
        "colab": {
          "base_uri": "https://localhost:8080/"
        },
        "id": "zKSbk5MseSJq",
        "outputId": "597ff049-ae26-468d-aa93-f50bc9b74f59"
      },
      "execution_count": null,
      "outputs": [
        {
          "output_type": "execute_result",
          "data": {
            "text/plain": [
              "11"
            ]
          },
          "metadata": {},
          "execution_count": 13
        }
      ]
    },
    {
      "cell_type": "code",
      "source": [
        "df.dropna(thresh=len(df.columns)).show()"
      ],
      "metadata": {
        "colab": {
          "base_uri": "https://localhost:8080/"
        },
        "id": "eul4OFzHfFSE",
        "outputId": "6c5447ba-6173-4342-cc34-d82e9e561445"
      },
      "execution_count": null,
      "outputs": [
        {
          "output_type": "stream",
          "name": "stdout",
          "text": [
            "+-------+----------+------+-----+----------+-------------+--------------------------+--------------+------------------+------------------+------------------+\n",
            "|User_ID|Product_ID|Gender|  Age|Occupation|City_Category|Stay_In_Current_City_Years|Marital_Status|Product_Category_1|Product_Category_2|Product_Category_3|\n",
            "+-------+----------+------+-----+----------+-------------+--------------------------+--------------+------------------+------------------+------------------+\n",
            "|1000011| P00053842|     F|26-35|         1|            C|                         1|             0|                 4|                 5|                12|\n",
            "|1000013| P00350442|     M|46-50|         1|            C|                         3|             1|                 2|                 3|                15|\n",
            "|1000013| P00155442|     M|46-50|         1|            C|                         3|             1|                 1|                11|                15|\n",
            "|1000013|  P0094542|     M|46-50|         1|            C|                         3|             1|                 2|                 4|                 9|\n",
            "|1000015| P00161842|     M|26-35|         7|            A|                         1|             0|                10|                13|                16|\n",
            "|1000026| P00046742|     M|26-35|         7|            B|                         2|             1|                 1|                 2|                15|\n",
            "|1000026| P00196542|     M|26-35|         7|            B|                         2|             1|                 5|                 8|                14|\n",
            "|1000028| P00159542|     F|26-35|         1|            C|                         2|             1|                10|                15|                16|\n",
            "|1000033| P00344442|     M|46-50|         3|            A|                         1|             1|                 5|                 8|                14|\n",
            "|1000035|  P0096642|     M|46-50|         1|            C|                        4+|             1|                 2|                 3|                 4|\n",
            "|1000036| P00059642|     M|26-35|         3|            B|                         0|             0|                 1|                 2|                 3|\n",
            "|1000042| P00030842|     M|26-35|         8|            C|                         0|             1|                 1|                 2|                15|\n",
            "|1000045| P00346442|     F|46-50|        16|            A|                         1|             1|                 1|                 2|                14|\n",
            "|1000048| P00110842|     M|26-35|         4|            B|                         3|             1|                 1|                 2|                 5|\n",
            "|1000048| P00251642|     M|26-35|         4|            B|                         3|             1|                 1|                 2|                 4|\n",
            "|1000053| P00136742|     M|26-35|         0|            B|                         1|             0|                 1|                14|                16|\n",
            "|1000053|  P0097342|     M|26-35|         0|            B|                         1|             0|                 1|                15|                16|\n",
            "|1000059| P00177442|     F|51-55|         1|            B|                        4+|             1|                 1|                 6|                 8|\n",
            "|1000065| P00000142|     M|36-45|        12|            C|                         2|             1|                 3|                 4|                 5|\n",
            "|1000068| P00216342|     M|18-25|         4|            A|                         0|             0|                 3|                 4|                 5|\n",
            "+-------+----------+------+-----+----------+-------------+--------------------------+--------------+------------------+------------------+------------------+\n",
            "only showing top 20 rows\n",
            "\n"
          ]
        }
      ]
    },
    {
      "cell_type": "code",
      "source": [
        "# Determine the number of users who have age in the age range 46-50 years\n",
        "df.filter(col('Age')=='46-50').show(truncate=False)"
      ],
      "metadata": {
        "colab": {
          "base_uri": "https://localhost:8080/"
        },
        "id": "cb1lwn2BfR9T",
        "outputId": "f3d2c8ea-4279-499f-974a-ce79f44614e6"
      },
      "execution_count": null,
      "outputs": [
        {
          "output_type": "stream",
          "name": "stdout",
          "text": [
            "+-------+----------+------+-----+----------+-------------+--------------------------+--------------+------------------+------------------+------------------+\n",
            "|User_ID|Product_ID|Gender|Age  |Occupation|City_Category|Stay_In_Current_City_Years|Marital_Status|Product_Category_1|Product_Category_2|Product_Category_3|\n",
            "+-------+----------+------+-----+----------+-------------+--------------------------+--------------+------------------+------------------+------------------+\n",
            "|1000004|P00128942 |M     |46-50|7         |B            |2                         |1             |1                 |11                |null              |\n",
            "|1000013|P00350442 |M     |46-50|1         |C            |3                         |1             |2                 |3                 |15                |\n",
            "|1000013|P00155442 |M     |46-50|1         |C            |3                         |1             |1                 |11                |15                |\n",
            "|1000013|P0094542  |M     |46-50|1         |C            |3                         |1             |2                 |4                 |9                 |\n",
            "|1000033|P00121042 |M     |46-50|3         |A            |1                         |1             |15                |null              |null              |\n",
            "|1000033|P00344442 |M     |46-50|3         |A            |1                         |1             |5                 |8                 |14                |\n",
            "|1000035|P0096642  |M     |46-50|1         |C            |4+                        |1             |2                 |3                 |4                 |\n",
            "|1000045|P00346442 |F     |46-50|16        |A            |1                         |1             |1                 |2                 |14                |\n",
            "|1000045|P00357242 |F     |46-50|16        |A            |1                         |1             |5                 |null              |null              |\n",
            "|1000045|P00284742 |F     |46-50|16        |A            |1                         |1             |5                 |12                |null              |\n",
            "|1000078|P0095842  |F     |46-50|1         |C            |0                         |1             |3                 |4                 |12                |\n",
            "|1000103|P00148542 |M     |46-50|7         |B            |2                         |1             |1                 |16                |17                |\n",
            "|1000107|P00089042 |M     |46-50|18        |C            |4+                        |0             |13                |null              |null              |\n",
            "|1000161|P00014942 |M     |46-50|16        |C            |4+                        |1             |8                 |null              |null              |\n",
            "|1000161|P00101542 |M     |46-50|16        |C            |4+                        |1             |13                |16                |null              |\n",
            "|1000161|P00184942 |M     |46-50|16        |C            |4+                        |1             |1                 |8                 |17                |\n",
            "|1000187|P00001742 |F     |46-50|1         |B            |1                         |0             |8                 |14                |null              |\n",
            "|1000187|P00137442 |F     |46-50|1         |B            |1                         |0             |8                 |12                |null              |\n",
            "|1000187|P00029342 |F     |46-50|1         |B            |1                         |0             |8                 |14                |null              |\n",
            "|1000193|P00310842 |F     |46-50|15        |C            |1                         |1             |6                 |8                 |10                |\n",
            "+-------+----------+------+-----+----------+-------------+--------------------------+--------------+------------------+------------------+------------------+\n",
            "only showing top 20 rows\n",
            "\n"
          ]
        }
      ]
    },
    {
      "cell_type": "code",
      "source": [
        "import pyspark.sql.functions as fn\n",
        "df.agg(\n",
        "fn.count('User_ID').alias('count'),\n",
        "fn.countDistinct('User_ID').alias('distinct')\n",
        ").show()"
      ],
      "metadata": {
        "colab": {
          "base_uri": "https://localhost:8080/"
        },
        "id": "XgFXT0EZjpNS",
        "outputId": "84512629-cb21-4232-b4c6-7f442a4db582"
      },
      "execution_count": null,
      "outputs": [
        {
          "output_type": "stream",
          "name": "stdout",
          "text": [
            "+------+--------+\n",
            "| count|distinct|\n",
            "+------+--------+\n",
            "|233599|    5891|\n",
            "+------+--------+\n",
            "\n"
          ]
        }
      ]
    },
    {
      "cell_type": "code",
      "source": [
        "# Upload daily_weather.csv file\n",
        "df_weather = spark.read.csv(\"daily_weather.csv\", header=True, inferSchema=True)"
      ],
      "metadata": {
        "id": "DU5_NM-W1P_p"
      },
      "execution_count": null,
      "outputs": []
    },
    {
      "cell_type": "code",
      "source": [
        "# number of duplicate rows\n",
        "\n",
        "number_of_duplicate_rows = df_weather.count()-df_weather.distinct().count()\n",
        "number_of_duplicate_rows"
      ],
      "metadata": {
        "colab": {
          "base_uri": "https://localhost:8080/"
        },
        "id": "dzc9boku16sT",
        "outputId": "a85606c8-7a1d-46dc-f815-6938eee3496a"
      },
      "execution_count": null,
      "outputs": [
        {
          "output_type": "execute_result",
          "data": {
            "text/plain": [
              "0"
            ]
          },
          "metadata": {},
          "execution_count": 29
        }
      ]
    },
    {
      "cell_type": "code",
      "source": [
        "# Percentage of missing values\n",
        "import pyspark.sql.functions as fn\n",
        "df_weather.agg(*[\n",
        " (1 - (fn.count(c) / fn.count('*'))).alias(c + '_missing')\n",
        " for c in df.columns\n",
        "]).show()"
      ],
      "metadata": {
        "colab": {
          "base_uri": "https://localhost:8080/"
        },
        "id": "TZRyeShm3nSm",
        "outputId": "62af0db2-c2a7-486b-97be-93887a988f01"
      },
      "execution_count": null,
      "outputs": [
        {
          "output_type": "stream",
          "name": "stdout",
          "text": [
            "+--------------+------------------------+--------------------+------------------------------+--------------------------+------------------------------+--------------------------+-----------------------------+-------------------------+-----------------------------+-----------------------------+\n",
            "|number_missing|air_pressure_9am_missing|air_temp_9am_missing|avg_wind_direction_9am_missing|avg_wind_speed_9am_missing|max_wind_direction_9am_missing|max_wind_speed_9am_missing|rain_accumulation_9am_missing|rain_duration_9am_missing|relative_humidity_9am_missing|relative_humidity_3pm_missing|\n",
            "+--------------+------------------------+--------------------+------------------------------+--------------------------+------------------------------+--------------------------+-----------------------------+-------------------------+-----------------------------+-----------------------------+\n",
            "|           0.0|    0.002739726027397249|0.004566210045662156|          0.003652968036529...|      0.002739726027397249|          0.002739726027397249|      0.003652968036529...|         0.005479452054794498|     0.002739726027397249|                          0.0|                          0.0|\n",
            "+--------------+------------------------+--------------------+------------------------------+--------------------------+------------------------------+--------------------------+-----------------------------+-------------------------+-----------------------------+-----------------------------+\n",
            "\n"
          ]
        }
      ]
    },
    {
      "cell_type": "code",
      "source": [
        "# Calculate the number of rows which contains atleast one null value.\n",
        "df_weather.count()-df_weather.dropna(how=\"any\").count()"
      ],
      "metadata": {
        "colab": {
          "base_uri": "https://localhost:8080/"
        },
        "id": "3NEH5zEo55WQ",
        "outputId": "00e86033-a873-45b4-e0e7-f6cf4f56aeff"
      },
      "execution_count": null,
      "outputs": [
        {
          "output_type": "execute_result",
          "data": {
            "text/plain": [
              "31"
            ]
          },
          "metadata": {},
          "execution_count": 36
        }
      ]
    },
    {
      "cell_type": "code",
      "source": [
        "# Drop all null values and Calculate the mean values for each column.\n",
        "df_remove_all = df_weather.dropna(how=\"any\")\n",
        "\n",
        "from pyspark.sql.functions import avg\n",
        "imputeDF=df_weather\n",
        "for c in imputeDF.columns:\n",
        "    meanvalue = df_remove_all.agg(avg(c)).first()[0]\n",
        "    print(c, meanvalue)\n",
        "    imputeDF = imputeDF.na.fill(meanvalue, [c])"
      ],
      "metadata": {
        "colab": {
          "base_uri": "https://localhost:8080/"
        },
        "id": "gv3Hd_Eb8Se5",
        "outputId": "0f7c61ce-696f-4f6c-c44f-2b07c95107f8"
      },
      "execution_count": null,
      "outputs": [
        {
          "output_type": "stream",
          "name": "stdout",
          "text": [
            "number 545.0018796992481\n",
            "air_pressure_9am 918.9031798641051\n",
            "air_temp_9am 65.02260949558733\n",
            "avg_wind_direction_9am 142.30675564934037\n",
            "avg_wind_speed_9am 5.48579305071369\n",
            "max_wind_direction_9am 148.48042413321315\n",
            "max_wind_speed_9am 6.999713658875691\n",
            "rain_accumulation_9am 0.18202347650615522\n",
            "rain_duration_9am 266.3936973996037\n",
            "relative_humidity_9am 34.07743985327709\n",
            "relative_humidity_3pm 35.14838093290533\n"
          ]
        }
      ]
    }
  ]
}