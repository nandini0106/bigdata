{
  "nbformat": 4,
  "nbformat_minor": 0,
  "metadata": {
    "colab": {
      "provenance": [],
      "collapsed_sections": [],
      "toc_visible": true
    },
    "kernelspec": {
      "name": "python3",
      "display_name": "Python 3"
    },
    "language_info": {
      "name": "python"
    }
  },
  "cells": [
    {
      "cell_type": "code",
      "execution_count": null,
      "metadata": {
        "id": "y0VRH-7IcPuY"
      },
      "outputs": [],
      "source": [
        "data=[(1,'i love dogs'),(2,\"i hate dogs and knitting\"),(3,\"knitting is my hobby and my passion\")]"
      ]
    },
    {
      "cell_type": "code",
      "source": [
        "import numpy as np\n",
        "import string\n",
        "import math"
      ],
      "metadata": {
        "id": "GyJqA8IJcZOu"
      },
      "execution_count": null,
      "outputs": []
    },
    {
      "cell_type": "code",
      "source": [
        "def mapper1(input):\n",
        " \n",
        "    return [((word,i+1),1) for i in [0,1,2] for word in input[i][1].split()]"
      ],
      "metadata": {
        "id": "cMZwfWwJcz0I"
      },
      "execution_count": null,
      "outputs": []
    },
    {
      "cell_type": "code",
      "source": [
        "mapped1 = mapper1(data) \n",
        "mapped1"
      ],
      "metadata": {
        "colab": {
          "base_uri": "https://localhost:8080/"
        },
        "id": "sgdbsxKJdMIL",
        "outputId": "77d37625-b4ab-45c4-8b2c-91bedcbb6cc3"
      },
      "execution_count": null,
      "outputs": [
        {
          "output_type": "execute_result",
          "data": {
            "text/plain": [
              "[(('i', 1), 1),\n",
              " (('love', 1), 1),\n",
              " (('dogs', 1), 1),\n",
              " (('i', 2), 1),\n",
              " (('hate', 2), 1),\n",
              " (('dogs', 2), 1),\n",
              " (('and', 2), 1),\n",
              " (('knitting', 2), 1),\n",
              " (('knitting', 3), 1),\n",
              " (('is', 3), 1),\n",
              " (('my', 3), 1),\n",
              " (('hobby', 3), 1),\n",
              " (('and', 3), 1),\n",
              " (('my', 3), 1),\n",
              " (('passion', 3), 1)]"
            ]
          },
          "metadata": {},
          "execution_count": 4
        }
      ]
    },
    {
      "cell_type": "code",
      "source": [
        "mapped1[3][0]"
      ],
      "metadata": {
        "colab": {
          "base_uri": "https://localhost:8080/"
        },
        "id": "kmHyll4sIYaj",
        "outputId": "2fb33278-5370-455f-acef-0dd9ef038993"
      },
      "execution_count": null,
      "outputs": [
        {
          "output_type": "execute_result",
          "data": {
            "text/plain": [
              "('i', 2)"
            ]
          },
          "metadata": {},
          "execution_count": 5
        }
      ]
    },
    {
      "cell_type": "code",
      "source": [
        "def reducer1(mapped1):\n",
        " d = dict()\n",
        " for i in range(len(mapped1)):\n",
        "  word = mapped1[i][0]\n",
        "  if word in d:\n",
        "    d[word] = d[word] + 1\n",
        "  else:\n",
        "            # Add the word to dictionary with count 1\n",
        "    d[word] = 1\n",
        " return d"
      ],
      "metadata": {
        "id": "JjLhpYVfdW6f"
      },
      "execution_count": null,
      "outputs": []
    },
    {
      "cell_type": "code",
      "source": [
        "d1 = reducer1(mapped1)\n",
        "d1"
      ],
      "metadata": {
        "colab": {
          "base_uri": "https://localhost:8080/"
        },
        "id": "WUo97vt2dhFf",
        "outputId": "71d9e3e3-7cf3-4255-eab6-475c037bbc63"
      },
      "execution_count": null,
      "outputs": [
        {
          "output_type": "execute_result",
          "data": {
            "text/plain": [
              "{('and', 2): 1,\n",
              " ('and', 3): 1,\n",
              " ('dogs', 1): 1,\n",
              " ('dogs', 2): 1,\n",
              " ('hate', 2): 1,\n",
              " ('hobby', 3): 1,\n",
              " ('i', 1): 1,\n",
              " ('i', 2): 1,\n",
              " ('is', 3): 1,\n",
              " ('knitting', 2): 1,\n",
              " ('knitting', 3): 1,\n",
              " ('love', 1): 1,\n",
              " ('my', 3): 2,\n",
              " ('passion', 3): 1}"
            ]
          },
          "metadata": {},
          "execution_count": 7
        }
      ]
    },
    {
      "cell_type": "code",
      "source": [
        "list1 = [(k, v) for k, v in d1.items()]\n",
        "list1"
      ],
      "metadata": {
        "id": "DsdoZYZRdocg",
        "colab": {
          "base_uri": "https://localhost:8080/"
        },
        "outputId": "44cb73c0-b54d-426e-d7a0-cda776ce9111"
      },
      "execution_count": null,
      "outputs": [
        {
          "output_type": "execute_result",
          "data": {
            "text/plain": [
              "[(('i', 1), 1),\n",
              " (('love', 1), 1),\n",
              " (('dogs', 1), 1),\n",
              " (('i', 2), 1),\n",
              " (('hate', 2), 1),\n",
              " (('dogs', 2), 1),\n",
              " (('and', 2), 1),\n",
              " (('knitting', 2), 1),\n",
              " (('knitting', 3), 1),\n",
              " (('is', 3), 1),\n",
              " (('my', 3), 2),\n",
              " (('hobby', 3), 1),\n",
              " (('and', 3), 1),\n",
              " (('passion', 3), 1)]"
            ]
          },
          "metadata": {},
          "execution_count": 8
        }
      ]
    },
    {
      "cell_type": "code",
      "source": [
        "list1[3][0][0]"
      ],
      "metadata": {
        "colab": {
          "base_uri": "https://localhost:8080/",
          "height": 36
        },
        "id": "MRqctWEV4wzB",
        "outputId": "ab5f001d-7a86-43b4-b199-5a15428c31d0"
      },
      "execution_count": null,
      "outputs": [
        {
          "output_type": "execute_result",
          "data": {
            "text/plain": [
              "'i'"
            ],
            "application/vnd.google.colaboratory.intrinsic+json": {
              "type": "string"
            }
          },
          "metadata": {},
          "execution_count": 9
        }
      ]
    },
    {
      "cell_type": "code",
      "source": [
        "def mapper2(input):\n",
        " \n",
        "    return [(input[i][0][0],(input[i][0][1],input[i][1],1)) for i in range(len(list1))]"
      ],
      "metadata": {
        "id": "_14rK0SNxt0z"
      },
      "execution_count": null,
      "outputs": []
    },
    {
      "cell_type": "code",
      "source": [],
      "metadata": {
        "id": "wLjDrXQrPMVA"
      },
      "execution_count": null,
      "outputs": []
    },
    {
      "cell_type": "code",
      "source": [
        "mapped2 = mapper2(list1) \n",
        "mapped2"
      ],
      "metadata": {
        "colab": {
          "base_uri": "https://localhost:8080/"
        },
        "id": "kSQaimYv2_wb",
        "outputId": "ab0fd7cb-3e26-41a7-f065-209a9dc1f028"
      },
      "execution_count": null,
      "outputs": [
        {
          "output_type": "execute_result",
          "data": {
            "text/plain": [
              "[('i', (1, 1, 1)),\n",
              " ('love', (1, 1, 1)),\n",
              " ('dogs', (1, 1, 1)),\n",
              " ('i', (2, 1, 1)),\n",
              " ('hate', (2, 1, 1)),\n",
              " ('dogs', (2, 1, 1)),\n",
              " ('and', (2, 1, 1)),\n",
              " ('knitting', (2, 1, 1)),\n",
              " ('knitting', (3, 1, 1)),\n",
              " ('is', (3, 1, 1)),\n",
              " ('my', (3, 2, 1)),\n",
              " ('hobby', (3, 1, 1)),\n",
              " ('and', (3, 1, 1)),\n",
              " ('passion', (3, 1, 1))]"
            ]
          },
          "metadata": {},
          "execution_count": 12
        }
      ]
    },
    {
      "cell_type": "code",
      "source": [
        "w = mapped2[7][0]\n",
        "w"
      ],
      "metadata": {
        "colab": {
          "base_uri": "https://localhost:8080/",
          "height": 36
        },
        "id": "wlL38RZs6xf-",
        "outputId": "b77a1e5b-a2ff-4a0f-c2b1-d25464e1f0b8"
      },
      "execution_count": null,
      "outputs": [
        {
          "output_type": "execute_result",
          "data": {
            "text/plain": [
              "'knitting'"
            ],
            "application/vnd.google.colaboratory.intrinsic+json": {
              "type": "string"
            }
          },
          "metadata": {},
          "execution_count": 12
        }
      ]
    },
    {
      "cell_type": "code",
      "source": [
        "def reducer2(mapped2):\n",
        " d = dict()\n",
        " for i in range(len(mapped2)):\n",
        "  word = mapped2[i][0]\n",
        "  if word in d:\n",
        "    d[word] = d[word] + 1\n",
        "  else:\n",
        "            # Add the word to dictionary with count 1\n",
        "    d[word] = 1\n",
        " return d"
      ],
      "metadata": {
        "id": "CygX9x5spaH2"
      },
      "execution_count": null,
      "outputs": []
    },
    {
      "cell_type": "code",
      "source": [
        "d2 = reducer2(mapped2)\n",
        "d2"
      ],
      "metadata": {
        "colab": {
          "base_uri": "https://localhost:8080/"
        },
        "id": "YnHu3HkgvocB",
        "outputId": "d29f2a88-5bfc-4b87-ee56-faa1b09cc28f"
      },
      "execution_count": null,
      "outputs": [
        {
          "output_type": "execute_result",
          "data": {
            "text/plain": [
              "{'and': 2,\n",
              " 'dogs': 2,\n",
              " 'hate': 1,\n",
              " 'hobby': 1,\n",
              " 'i': 2,\n",
              " 'is': 1,\n",
              " 'knitting': 2,\n",
              " 'love': 1,\n",
              " 'my': 1,\n",
              " 'passion': 1}"
            ]
          },
          "metadata": {},
          "execution_count": 14
        }
      ]
    },
    {
      "cell_type": "code",
      "source": [
        "list2 = [(k, v) for k, v in d2.items()]\n",
        "list2"
      ],
      "metadata": {
        "colab": {
          "base_uri": "https://localhost:8080/"
        },
        "id": "ZrN7w2V9vz6w",
        "outputId": "db7c84a9-94bc-44c7-c4fe-3dd86f1e8619"
      },
      "execution_count": null,
      "outputs": [
        {
          "output_type": "execute_result",
          "data": {
            "text/plain": [
              "[('i', 2),\n",
              " ('love', 1),\n",
              " ('dogs', 2),\n",
              " ('hate', 1),\n",
              " ('and', 2),\n",
              " ('knitting', 2),\n",
              " ('is', 1),\n",
              " ('my', 1),\n",
              " ('hobby', 1),\n",
              " ('passion', 1)]"
            ]
          },
          "metadata": {},
          "execution_count": 15
        }
      ]
    },
    {
      "cell_type": "code",
      "source": [
        "def reducer3(list1,list2):\n",
        " d = dict()\n",
        " for i in range(len(list1)):\n",
        "   for j in range(len(list2)):\n",
        "    key = list1[i][0]\n",
        "    key1 = key[0]\n",
        "    value1 = list1[i][1]\n",
        "    key2 = list2[j][0]\n",
        "    value2 = list2[j][1]\n",
        "    if key1==key2:\n",
        "        d[key] = value1*math.log((len(data))/value2)\n",
        "        #print(key1)\n",
        "    else:\n",
        "            # Add the word to dictionary with count 1\n",
        "        pass\n",
        " return d"
      ],
      "metadata": {
        "id": "2XFqSKLd44G2"
      },
      "execution_count": null,
      "outputs": []
    },
    {
      "cell_type": "code",
      "source": [
        "d = reducer3(list1,list2)"
      ],
      "metadata": {
        "id": "uKT9Z-cB7Fcz"
      },
      "execution_count": null,
      "outputs": []
    },
    {
      "cell_type": "code",
      "source": [
        "d"
      ],
      "metadata": {
        "colab": {
          "base_uri": "https://localhost:8080/"
        },
        "id": "gPErIQKw9A6O",
        "outputId": "54ce0bc7-8a62-44c5-b12b-820fcd96e215"
      },
      "execution_count": null,
      "outputs": [
        {
          "output_type": "execute_result",
          "data": {
            "text/plain": [
              "{('and', 2): 0.4054651081081644,\n",
              " ('and', 3): 0.4054651081081644,\n",
              " ('dogs', 1): 0.4054651081081644,\n",
              " ('dogs', 2): 0.4054651081081644,\n",
              " ('hate', 2): 1.0986122886681098,\n",
              " ('hobby', 3): 1.0986122886681098,\n",
              " ('i', 1): 0.4054651081081644,\n",
              " ('i', 2): 0.4054651081081644,\n",
              " ('is', 3): 1.0986122886681098,\n",
              " ('knitting', 2): 0.4054651081081644,\n",
              " ('knitting', 3): 0.4054651081081644,\n",
              " ('love', 1): 1.0986122886681098,\n",
              " ('my', 3): 2.1972245773362196,\n",
              " ('passion', 3): 1.0986122886681098}"
            ]
          },
          "metadata": {},
          "execution_count": 18
        }
      ]
    }
  ]
}